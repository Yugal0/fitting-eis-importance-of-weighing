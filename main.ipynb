{
 "cells": [
  {
   "cell_type": "code",
   "execution_count": 109,
   "metadata": {},
   "outputs": [
    {
     "name": "stdout",
     "output_type": "stream",
     "text": [
      "\n",
      "Circuit string: p(R_1,C_1)\n",
      "Fit: True\n",
      "\n",
      "Initial guesses:\n",
      "    R_1 = 1.00e+02 [Ohm]\n",
      "    C_1 = 1.00e-03 [F]\n",
      "\n",
      "Fit parameters:\n",
      "    R_1 = 1.00e+02  (+/- 0.00e+00) [Ohm]\n",
      "    C_1 = 1.00e-03  (+/- 0.00e+00) [F]\n",
      "\n"
     ]
    }
   ],
   "source": [
    "from impedance.models.circuits import CustomCircuit\n",
    "import numpy as np\n",
    "import matplotlib.pyplot as plt\n",
    "\n",
    "c = CustomCircuit(initial_guess=[100,1e-3],circuit=\"p(R_1,C_1)\")\n",
    "z_exp=c.predict(frequencies=np.logspace(-3,3,100))\n",
    "\n",
    "# plt.plot(np.real(z_exp),-np.imag(z_exp),\"o\",ms=5)\n",
    "# plt.gca().text(0.5,0.5,\"Experimental Data\",transform=plt.gca().transAxes)\n",
    "# plt.gca().set_aspect(\"equal\")\n",
    "\n",
    "c2=CustomCircuit(initial_guess=[100,1e-3],circuit=\"p(R_1,C_1)\")\n",
    "c2.fit(impedance=z_exp,frequencies=np.logspace(-3,3,100))\n",
    "print(c2)"
   ]
  },
  {
   "cell_type": "code",
   "execution_count": 104,
   "metadata": {},
   "outputs": [
    {
     "name": "stdout",
     "output_type": "stream",
     "text": [
      "       message: Optimization terminated successfully.\n",
      "       success: True\n",
      "        status: 0\n",
      "           fun: 2.921720203512872e-11\n",
      "             x: [ 1.000e+02  6.283e-03]\n",
      "           nit: 129\n",
      "          nfev: 237\n",
      " final_simplex: (array([[ 1.000e+02,  6.283e-03],\n",
      "                       [ 1.000e+02,  6.283e-03],\n",
      "                       [ 1.000e+02,  6.283e-03]]), array([ 2.922e-11,  8.407e-11,  1.029e-10]))\n"
     ]
    }
   ],
   "source": [
    "from scipy.optimize import minimize\n",
    "\n",
    "omega=2*np.pi*np.logspace(-3,3,100)\n",
    "\n",
    "import numpy as np\n",
    "def fun(params,omega,z_exp,weights):\n",
    "    R=params[0]\n",
    "    C=params[1]\n",
    " \n",
    "    chi_total=0\n",
    "    for w,z,wt in zip(omega,z_exp,weights):\n",
    "        z_model=1/(1/R+1j*C*w)\n",
    "        # print(z_model)\n",
    "        chi_real=(np.real(z_model)-np.real(z))**2/wt**2\n",
    "        chi_imag=(np.imag(z_model)-np.imag(z))**2/wt**2\n",
    "        # print(chi_real)\n",
    "        chi_total+=(chi_real+chi_imag)\n",
    "\n",
    "    return chi_total\n",
    "\n",
    "# x=np.linspace(1,100,1000)\n",
    "# plt.plot(x,fun(x))\n",
    "omega=np.logspace(-3,3,100)\n",
    "wt=np.abs(z_exp)\n",
    "result=minimize(fun,(10,1e-3),args=(omega,z_exp,wt),method=\"Nelder-Mead\")\n",
    "print(result)\n"
   ]
  }
 ],
 "metadata": {
  "kernelspec": {
   "display_name": "Python 3",
   "language": "python",
   "name": "python3"
  },
  "language_info": {
   "codemirror_mode": {
    "name": "ipython",
    "version": 3
   },
   "file_extension": ".py",
   "mimetype": "text/x-python",
   "name": "python",
   "nbconvert_exporter": "python",
   "pygments_lexer": "ipython3",
   "version": "3.10.11"
  }
 },
 "nbformat": 4,
 "nbformat_minor": 2
}
