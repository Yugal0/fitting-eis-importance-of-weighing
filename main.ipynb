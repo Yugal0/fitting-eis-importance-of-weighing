{
 "cells": [
  {
   "cell_type": "code",
   "execution_count": 220,
   "metadata": {},
   "outputs": [],
   "source": [
    "%matplotlib ipympl\n",
    "from impedance.models.circuits import CustomCircuit\n",
    "import numpy as np\n",
    "import matplotlib.pyplot as plt\n",
    "\n",
    "c = CustomCircuit(initial_guess=[100,1e-3],circuit=\"p(R_1,C_1)\")\n",
    "z_exp=c.predict(frequencies=np.logspace(-2,3,100))\n",
    "\n",
    "# plt.plot(np.real(z_exp),-np.imag(z_exp),\"o\",ms=5)\n",
    "# plt.gca().text(0.5,0.5,\"Experimental Data\",transform=plt.gca().transAxes)\n",
    "# plt.gca().set_aspect(\"equal\")\n",
    "\n",
    "# c2=CustomCircuit(initial_guess=[10,1e-3],circuit=\"p(R_1,C_1)\")\n",
    "# c2.fit(impedance=z_exp,frequencies=np.logspace(-3,3,100))\n",
    "# print(c2)"
   ]
  },
  {
   "cell_type": "code",
   "execution_count": 226,
   "metadata": {},
   "outputs": [
    {
     "name": "stdout",
     "output_type": "stream",
     "text": [
      " message: Optimization terminated successfully.\n",
      " success: True\n",
      "  status: 0\n",
      "     fun: 454410.45022914413\n",
      "       x: [ 1.000e+02  4.252e-02]\n",
      "     nit: 3\n",
      "   direc: [[ 1.000e+00  0.000e+00]\n",
      "           [-4.313e-06  1.054e-05]]\n",
      "    nfev: 67\n"
     ]
    },
    {
     "ename": "ValueError",
     "evalue": "Method 'lm' doesn't work when the number of residuals is less than the number of variables.",
     "output_type": "error",
     "traceback": [
      "\u001b[1;31m---------------------------------------------------------------------------\u001b[0m",
      "\u001b[1;31mValueError\u001b[0m                                Traceback (most recent call last)",
      "Cell \u001b[1;32mIn[226], line 32\u001b[0m\n\u001b[0;32m     29\u001b[0m result\u001b[38;5;241m=\u001b[39mminimize(fun,(\u001b[38;5;241m100\u001b[39m,\u001b[38;5;241m2e-3\u001b[39m),args\u001b[38;5;241m=\u001b[39m(omega,z_exp,wt),method\u001b[38;5;241m=\u001b[39m\u001b[38;5;124m\"\u001b[39m\u001b[38;5;124mPowell\u001b[39m\u001b[38;5;124m\"\u001b[39m,options\u001b[38;5;241m=\u001b[39m{\u001b[38;5;124m'\u001b[39m\u001b[38;5;124mreturn_all\u001b[39m\u001b[38;5;124m'\u001b[39m: \u001b[38;5;28;01mFalse\u001b[39;00m})\n\u001b[0;32m     30\u001b[0m \u001b[38;5;28mprint\u001b[39m(result)\n\u001b[1;32m---> 32\u001b[0m result2\u001b[38;5;241m=\u001b[39m\u001b[43mleast_squares\u001b[49m\u001b[43m(\u001b[49m\u001b[43mfun\u001b[49m\u001b[43m,\u001b[49m\u001b[43m(\u001b[49m\u001b[38;5;241;43m100\u001b[39;49m\u001b[43m,\u001b[49m\u001b[38;5;241;43m2e-3\u001b[39;49m\u001b[43m)\u001b[49m\u001b[43m,\u001b[49m\u001b[43margs\u001b[49m\u001b[38;5;241;43m=\u001b[39;49m\u001b[43m(\u001b[49m\u001b[43momega\u001b[49m\u001b[43m,\u001b[49m\u001b[43mz_exp\u001b[49m\u001b[43m,\u001b[49m\u001b[43mwt\u001b[49m\u001b[43m)\u001b[49m\u001b[43m,\u001b[49m\u001b[43mmethod\u001b[49m\u001b[38;5;241;43m=\u001b[39;49m\u001b[38;5;124;43m\"\u001b[39;49m\u001b[38;5;124;43mlm\u001b[39;49m\u001b[38;5;124;43m\"\u001b[39;49m\u001b[43m)\u001b[49m\n\u001b[0;32m     33\u001b[0m \u001b[38;5;28mprint\u001b[39m(\u001b[38;5;124m\"\u001b[39m\u001b[38;5;124m#########\u001b[39m\u001b[38;5;124m\"\u001b[39m)\n\u001b[0;32m     34\u001b[0m \u001b[38;5;28mprint\u001b[39m(result2)\n",
      "File \u001b[1;32m~\\AppData\\Local\\Packages\\PythonSoftwareFoundation.Python.3.10_qbz5n2kfra8p0\\LocalCache\\local-packages\\Python310\\site-packages\\scipy\\optimize\\_lsq\\least_squares.py:843\u001b[0m, in \u001b[0;36mleast_squares\u001b[1;34m(fun, x0, jac, bounds, method, ftol, xtol, gtol, x_scale, loss, f_scale, diff_step, tr_solver, tr_options, jac_sparsity, max_nfev, verbose, args, kwargs)\u001b[0m\n\u001b[0;32m    840\u001b[0m m \u001b[38;5;241m=\u001b[39m f0\u001b[38;5;241m.\u001b[39msize\n\u001b[0;32m    842\u001b[0m \u001b[38;5;28;01mif\u001b[39;00m method \u001b[38;5;241m==\u001b[39m \u001b[38;5;124m'\u001b[39m\u001b[38;5;124mlm\u001b[39m\u001b[38;5;124m'\u001b[39m \u001b[38;5;129;01mand\u001b[39;00m m \u001b[38;5;241m<\u001b[39m n:\n\u001b[1;32m--> 843\u001b[0m     \u001b[38;5;28;01mraise\u001b[39;00m \u001b[38;5;167;01mValueError\u001b[39;00m(\u001b[38;5;124m\"\u001b[39m\u001b[38;5;124mMethod \u001b[39m\u001b[38;5;124m'\u001b[39m\u001b[38;5;124mlm\u001b[39m\u001b[38;5;124m'\u001b[39m\u001b[38;5;124m doesn\u001b[39m\u001b[38;5;124m'\u001b[39m\u001b[38;5;124mt work when the number of \u001b[39m\u001b[38;5;124m\"\u001b[39m\n\u001b[0;32m    844\u001b[0m                      \u001b[38;5;124m\"\u001b[39m\u001b[38;5;124mresiduals is less than the number of variables.\u001b[39m\u001b[38;5;124m\"\u001b[39m)\n\u001b[0;32m    846\u001b[0m loss_function \u001b[38;5;241m=\u001b[39m construct_loss_function(m, loss, f_scale)\n\u001b[0;32m    847\u001b[0m \u001b[38;5;28;01mif\u001b[39;00m callable(loss):\n",
      "\u001b[1;31mValueError\u001b[0m: Method 'lm' doesn't work when the number of residuals is less than the number of variables."
     ]
    }
   ],
   "source": [
    "from scipy.optimize import minimize, least_squares\n",
    "\n",
    "omega=2*np.pi*np.logspace(-3,3,100)\n",
    "\n",
    "import numpy as np\n",
    "def fun(params,omega,z_exp,weights):\n",
    "    R1=params[0]\n",
    "    C1=params[1]\n",
    "    # R0=100 \n",
    "    # C0=1e-3\n",
    "    R0=1 \n",
    "    C0=1\n",
    "    chi_total=0\n",
    "    for w,z,wt in zip(omega,z_exp,weights):\n",
    "\n",
    "        z_model=1/(1/(R1*R0)+1j*(C1*C0)*w)\n",
    "        chi_real=(np.real(z_model)-np.real(z))**2/wt**2\n",
    "        chi_imag=(np.imag(z_model)-np.imag(z))**2/wt**2\n",
    "        chi_total+=(chi_real+chi_imag)\n",
    "\n",
    "    return chi_total\n",
    "\n",
    "\n",
    "omega=np.logspace(-3,3,100)\n",
    "wt=np.abs(z_exp)\n",
    "wt=np.ones(len(z_exp))\n",
    "wt=omega\n",
    "\n",
    "result=minimize(fun,(100,2e-3),args=(omega,z_exp,wt),method=\"Powell\",options={'return_all': False})\n",
    "print(result)\n",
    "\n",
    "result2=least_squares(fun,(100,2e-3),args=(omega,z_exp,wt),method=\"lm\")\n",
    "print(\"#########\")\n",
    "print(result2)\n",
    "\n",
    "cc = CustomCircuit(initial_guess=[result.x[0],result.x[1]],circuit=\"p(R_1,C_1)\")\n",
    "z_fit = cc.predict(frequencies=np.logspace(-3,3,100))\n",
    "\n",
    "plt.cla()\n",
    "plt.plot(np.real(z_fit),-np.imag(z_fit),\"o\",ms=5,label=\"Fit\")\n",
    "plt.plot(np.real(z_exp),-np.imag(z_exp),\"o\",ms=5,label=\"Exp\")\n",
    "plt.gca().set_aspect(\"equal\")\n",
    "plt.legend()\n",
    "plt.show()"
   ]
  }
 ],
 "metadata": {
  "kernelspec": {
   "display_name": "Python 3",
   "language": "python",
   "name": "python3"
  },
  "language_info": {
   "codemirror_mode": {
    "name": "ipython",
    "version": 3
   },
   "file_extension": ".py",
   "mimetype": "text/x-python",
   "name": "python",
   "nbconvert_exporter": "python",
   "pygments_lexer": "ipython3",
   "version": "3.10.11"
  }
 },
 "nbformat": 4,
 "nbformat_minor": 2
}
